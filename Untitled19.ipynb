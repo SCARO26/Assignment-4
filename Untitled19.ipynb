{
 "cells": [
  {
   "cell_type": "code",
   "execution_count": 8,
   "id": "cab3b998-0510-4b49-a4ab-cc79195d9650",
   "metadata": {
    "tags": []
   },
   "outputs": [
    {
     "name": "stdout",
     "output_type": "stream",
     "text": [
      "0- 3332528\n",
      "1- 6667472\n"
     ]
    }
   ],
   "source": [
    "import random\n",
    "from collections import Counter\n",
    "\n",
    "def generate():\n",
    "    # Generate 24 numbers in the set {1,2}\n",
    "    numbers = [random.randint(1, 2) for _ in range(24)]\n",
    "    \n",
    "    # Sum up the list from left to right starting at 1\n",
    "    sums = []\n",
    "    current_sum = 1\n",
    "    for number in numbers:\n",
    "        current_sum += number\n",
    "        sums.append(current_sum)\n",
    "    \n",
    "    # Check if 25 is in the list of sums\n",
    "    if 25 in sums:\n",
    "        return 1\n",
    "    else:\n",
    "        return 0\n",
    "\n",
    "\n",
    "# Repeat function\n",
    "def repeatlist():\n",
    "    # Repeats the game a certain number of times\n",
    "    results = []\n",
    "    for _ in range(10000000):\n",
    "        result = generate()\n",
    "        results.append(result)\n",
    "    \n",
    "    # Count the frequency of each result\n",
    "    frequencies = Counter(results)\n",
    "    for number, count in sorted(frequencies.items()):\n",
    "        print(f\"{number}- {count}\")\n",
    "\n",
    "if __name__ == \"__main__\":\n",
    "    repeatlist()"
   ]
  },
  {
   "cell_type": "code",
   "execution_count": null,
   "id": "27f1aad5-2f0a-4337-a4aa-fd71f8f772cd",
   "metadata": {},
   "outputs": [],
   "source": []
  }
 ],
 "metadata": {
  "kernelspec": {
   "display_name": "Python 3 (ipykernel)",
   "language": "python",
   "name": "python3"
  },
  "language_info": {
   "codemirror_mode": {
    "name": "ipython",
    "version": 3
   },
   "file_extension": ".py",
   "mimetype": "text/x-python",
   "name": "python",
   "nbconvert_exporter": "python",
   "pygments_lexer": "ipython3",
   "version": "3.11.5"
  }
 },
 "nbformat": 4,
 "nbformat_minor": 5
}
